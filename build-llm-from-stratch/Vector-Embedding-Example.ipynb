{
 "cells": [
  {
   "cell_type": "code",
   "id": "b9b0c68e-613f-4d83-a3c5-9755575d751c",
   "metadata": {
    "ExecuteTime": {
     "end_time": "2025-02-19T20:52:41.195829Z",
     "start_time": "2025-02-19T20:52:39.861974Z"
    }
   },
   "source": [
    "pip install gensim"
   ],
   "outputs": [
    {
     "name": "stdout",
     "output_type": "stream",
     "text": [
      "Requirement already satisfied: gensim in /opt/anaconda3/lib/python3.12/site-packages (4.3.3)\r\n",
      "Requirement already satisfied: numpy<2.0,>=1.18.5 in /opt/anaconda3/lib/python3.12/site-packages (from gensim) (1.26.4)\r\n",
      "Requirement already satisfied: scipy<1.14.0,>=1.7.0 in /opt/anaconda3/lib/python3.12/site-packages (from gensim) (1.13.1)\r\n",
      "Requirement already satisfied: smart-open>=1.8.1 in /opt/anaconda3/lib/python3.12/site-packages (from gensim) (5.2.1)\r\n",
      "Note: you may need to restart the kernel to use updated packages.\n"
     ]
    }
   ],
   "execution_count": 4
  },
  {
   "cell_type": "code",
   "id": "127356f9-4010-49bf-b772-1c7c57fa3d47",
   "metadata": {
    "ExecuteTime": {
     "end_time": "2025-02-19T20:52:45.947098Z",
     "start_time": "2025-02-19T20:52:45.766947Z"
    }
   },
   "source": [
    "import gensim.downloader as api\n",
    "\n",
    "model = api.load(\"word2vec-google-news-300\") #download the model and return as object already trained "
   ],
   "outputs": [
    {
     "ename": "ValueError",
     "evalue": "unable to read local cache '/Users/muskaracabey/gensim-data/information.json' during fallback, connect to the Internet and retry",
     "output_type": "error",
     "traceback": [
      "\u001B[0;31m---------------------------------------------------------------------------\u001B[0m",
      "\u001B[0;31mFileNotFoundError\u001B[0m                         Traceback (most recent call last)",
      "File \u001B[0;32m/opt/anaconda3/lib/python3.12/site-packages/gensim/downloader.py:219\u001B[0m, in \u001B[0;36m_load_info\u001B[0;34m(url, encoding)\u001B[0m\n\u001B[1;32m    215\u001B[0m \u001B[38;5;28;01mtry\u001B[39;00m:\n\u001B[1;32m    216\u001B[0m     \u001B[38;5;66;03m#\u001B[39;00m\n\u001B[1;32m    217\u001B[0m     \u001B[38;5;66;03m# We need io.open here because Py2 open doesn't support encoding keyword\u001B[39;00m\n\u001B[1;32m    218\u001B[0m     \u001B[38;5;66;03m#\u001B[39;00m\n\u001B[0;32m--> 219\u001B[0m     \u001B[38;5;28;01mwith\u001B[39;00m io\u001B[38;5;241m.\u001B[39mopen(cache_path, \u001B[38;5;124m'\u001B[39m\u001B[38;5;124mr\u001B[39m\u001B[38;5;124m'\u001B[39m, encoding\u001B[38;5;241m=\u001B[39mencoding) \u001B[38;5;28;01mas\u001B[39;00m fin:\n\u001B[1;32m    220\u001B[0m         \u001B[38;5;28;01mreturn\u001B[39;00m json\u001B[38;5;241m.\u001B[39mload(fin)\n",
      "\u001B[0;31mFileNotFoundError\u001B[0m: [Errno 2] No such file or directory: '/Users/muskaracabey/gensim-data/information.json'",
      "\nDuring handling of the above exception, another exception occurred:\n",
      "\u001B[0;31mValueError\u001B[0m                                Traceback (most recent call last)",
      "Cell \u001B[0;32mIn[5], line 3\u001B[0m\n\u001B[1;32m      1\u001B[0m \u001B[38;5;28;01mimport\u001B[39;00m \u001B[38;5;21;01mgensim\u001B[39;00m\u001B[38;5;21;01m.\u001B[39;00m\u001B[38;5;21;01mdownloader\u001B[39;00m \u001B[38;5;28;01mas\u001B[39;00m \u001B[38;5;21;01mapi\u001B[39;00m\n\u001B[0;32m----> 3\u001B[0m model \u001B[38;5;241m=\u001B[39m api\u001B[38;5;241m.\u001B[39mload(\u001B[38;5;124m\"\u001B[39m\u001B[38;5;124mword2vec-google-news-300\u001B[39m\u001B[38;5;124m\"\u001B[39m)\n",
      "File \u001B[0;32m/opt/anaconda3/lib/python3.12/site-packages/gensim/downloader.py:490\u001B[0m, in \u001B[0;36mload\u001B[0;34m(name, return_path)\u001B[0m\n\u001B[1;32m    436\u001B[0m \u001B[38;5;250m\u001B[39m\u001B[38;5;124;03m\"\"\"Download (if needed) dataset/model and load it to memory (unless `return_path` is set).\u001B[39;00m\n\u001B[1;32m    437\u001B[0m \n\u001B[1;32m    438\u001B[0m \u001B[38;5;124;03mParameters\u001B[39;00m\n\u001B[0;32m   (...)\u001B[0m\n\u001B[1;32m    487\u001B[0m \n\u001B[1;32m    488\u001B[0m \u001B[38;5;124;03m\"\"\"\u001B[39;00m\n\u001B[1;32m    489\u001B[0m _create_base_dir()\n\u001B[0;32m--> 490\u001B[0m file_name \u001B[38;5;241m=\u001B[39m _get_filename(name)\n\u001B[1;32m    491\u001B[0m \u001B[38;5;28;01mif\u001B[39;00m file_name \u001B[38;5;129;01mis\u001B[39;00m \u001B[38;5;28;01mNone\u001B[39;00m:\n\u001B[1;32m    492\u001B[0m     \u001B[38;5;28;01mraise\u001B[39;00m \u001B[38;5;167;01mValueError\u001B[39;00m(\u001B[38;5;124m\"\u001B[39m\u001B[38;5;124mIncorrect model/corpus name\u001B[39m\u001B[38;5;124m\"\u001B[39m)\n",
      "File \u001B[0;32m/opt/anaconda3/lib/python3.12/site-packages/gensim/downloader.py:426\u001B[0m, in \u001B[0;36m_get_filename\u001B[0;34m(name)\u001B[0m\n\u001B[1;32m    412\u001B[0m \u001B[38;5;28;01mdef\u001B[39;00m \u001B[38;5;21m_get_filename\u001B[39m(name):\n\u001B[1;32m    413\u001B[0m \u001B[38;5;250m    \u001B[39m\u001B[38;5;124;03m\"\"\"Retrieve the filename of the dataset/model.\u001B[39;00m\n\u001B[1;32m    414\u001B[0m \n\u001B[1;32m    415\u001B[0m \u001B[38;5;124;03m    Parameters\u001B[39;00m\n\u001B[0;32m   (...)\u001B[0m\n\u001B[1;32m    424\u001B[0m \n\u001B[1;32m    425\u001B[0m \u001B[38;5;124;03m    \"\"\"\u001B[39;00m\n\u001B[0;32m--> 426\u001B[0m     information \u001B[38;5;241m=\u001B[39m info()\n\u001B[1;32m    427\u001B[0m     corpora \u001B[38;5;241m=\u001B[39m information[\u001B[38;5;124m'\u001B[39m\u001B[38;5;124mcorpora\u001B[39m\u001B[38;5;124m'\u001B[39m]\n\u001B[1;32m    428\u001B[0m     models \u001B[38;5;241m=\u001B[39m information[\u001B[38;5;124m'\u001B[39m\u001B[38;5;124mmodels\u001B[39m\u001B[38;5;124m'\u001B[39m]\n",
      "File \u001B[0;32m/opt/anaconda3/lib/python3.12/site-packages/gensim/downloader.py:268\u001B[0m, in \u001B[0;36minfo\u001B[0;34m(name, show_only_latest, name_only)\u001B[0m\n\u001B[1;32m    228\u001B[0m \u001B[38;5;28;01mdef\u001B[39;00m \u001B[38;5;21minfo\u001B[39m(name\u001B[38;5;241m=\u001B[39m\u001B[38;5;28;01mNone\u001B[39;00m, show_only_latest\u001B[38;5;241m=\u001B[39m\u001B[38;5;28;01mTrue\u001B[39;00m, name_only\u001B[38;5;241m=\u001B[39m\u001B[38;5;28;01mFalse\u001B[39;00m):\n\u001B[1;32m    229\u001B[0m \u001B[38;5;250m    \u001B[39m\u001B[38;5;124;03m\"\"\"Provide the information related to model/dataset.\u001B[39;00m\n\u001B[1;32m    230\u001B[0m \n\u001B[1;32m    231\u001B[0m \u001B[38;5;124;03m    Parameters\u001B[39;00m\n\u001B[0;32m   (...)\u001B[0m\n\u001B[1;32m    266\u001B[0m \n\u001B[1;32m    267\u001B[0m \u001B[38;5;124;03m    \"\"\"\u001B[39;00m\n\u001B[0;32m--> 268\u001B[0m     information \u001B[38;5;241m=\u001B[39m _load_info()\n\u001B[1;32m    270\u001B[0m     \u001B[38;5;28;01mif\u001B[39;00m name \u001B[38;5;129;01mis\u001B[39;00m \u001B[38;5;129;01mnot\u001B[39;00m \u001B[38;5;28;01mNone\u001B[39;00m:\n\u001B[1;32m    271\u001B[0m         corpora \u001B[38;5;241m=\u001B[39m information[\u001B[38;5;124m'\u001B[39m\u001B[38;5;124mcorpora\u001B[39m\u001B[38;5;124m'\u001B[39m]\n",
      "File \u001B[0;32m/opt/anaconda3/lib/python3.12/site-packages/gensim/downloader.py:222\u001B[0m, in \u001B[0;36m_load_info\u001B[0;34m(url, encoding)\u001B[0m\n\u001B[1;32m    220\u001B[0m         \u001B[38;5;28;01mreturn\u001B[39;00m json\u001B[38;5;241m.\u001B[39mload(fin)\n\u001B[1;32m    221\u001B[0m \u001B[38;5;28;01mexcept\u001B[39;00m \u001B[38;5;167;01mIOError\u001B[39;00m:\n\u001B[0;32m--> 222\u001B[0m     \u001B[38;5;28;01mraise\u001B[39;00m \u001B[38;5;167;01mValueError\u001B[39;00m(\n\u001B[1;32m    223\u001B[0m         \u001B[38;5;124m'\u001B[39m\u001B[38;5;124munable to read local cache \u001B[39m\u001B[38;5;132;01m%r\u001B[39;00m\u001B[38;5;124m during fallback, \u001B[39m\u001B[38;5;124m'\u001B[39m\n\u001B[1;32m    224\u001B[0m         \u001B[38;5;124m'\u001B[39m\u001B[38;5;124mconnect to the Internet and retry\u001B[39m\u001B[38;5;124m'\u001B[39m \u001B[38;5;241m%\u001B[39m cache_path\n\u001B[1;32m    225\u001B[0m     )\n",
      "\u001B[0;31mValueError\u001B[0m: unable to read local cache '/Users/muskaracabey/gensim-data/information.json' during fallback, connect to the Internet and retry"
     ]
    }
   ],
   "execution_count": 5
  },
  {
   "cell_type": "code",
   "id": "d42c5c5e-1e82-407a-b011-dd76261217bf",
   "metadata": {
    "ExecuteTime": {
     "end_time": "2025-02-19T20:53:13.375927Z",
     "start_time": "2025-02-19T20:53:13.338137Z"
    }
   },
   "source": [
    "word_vectors = model\n",
    "\n",
    "#Let us look how the vector embedding of a word looks like\n",
    "print(word_vectors['computer']) # Example: Accessing the vector for the word 'Computer'\n",
    "\n",
    "#word_vector is dictionary ve şöyle düşün her kelimenin 300 dimensional vectoru var. "
   ],
   "outputs": [
    {
     "ename": "NameError",
     "evalue": "name 'model' is not defined",
     "output_type": "error",
     "traceback": [
      "\u001B[0;31m---------------------------------------------------------------------------\u001B[0m",
      "\u001B[0;31mNameError\u001B[0m                                 Traceback (most recent call last)",
      "Cell \u001B[0;32mIn[6], line 1\u001B[0m\n\u001B[0;32m----> 1\u001B[0m word_vectors \u001B[38;5;241m=\u001B[39m model\n\u001B[1;32m      3\u001B[0m \u001B[38;5;66;03m#Let us look how the vector embedding of a word looks like\u001B[39;00m\n\u001B[1;32m      4\u001B[0m \u001B[38;5;28mprint\u001B[39m(word_vectors[\u001B[38;5;124m'\u001B[39m\u001B[38;5;124mcomputer\u001B[39m\u001B[38;5;124m'\u001B[39m])\n",
      "\u001B[0;31mNameError\u001B[0m: name 'model' is not defined"
     ]
    }
   ],
   "execution_count": 6
  },
  {
   "metadata": {
    "ExecuteTime": {
     "end_time": "2025-02-19T20:57:20.117758Z",
     "start_time": "2025-02-19T20:57:20.059334Z"
    }
   },
   "cell_type": "code",
   "source": "print(word_vectors['cat'].shape) #300, you will se that it's 300 means that every word is encoded into 300 dimensional vector \n",
   "id": "4b3fc6487f0e7ad6",
   "outputs": [
    {
     "ename": "NameError",
     "evalue": "name 'word_vectors' is not defined",
     "output_type": "error",
     "traceback": [
      "\u001B[0;31m---------------------------------------------------------------------------\u001B[0m",
      "\u001B[0;31mNameError\u001B[0m                                 Traceback (most recent call last)",
      "Cell \u001B[0;32mIn[7], line 1\u001B[0m\n\u001B[0;32m----> 1\u001B[0m \u001B[38;5;28mprint\u001B[39m(word_vectors[\u001B[38;5;124m'\u001B[39m\u001B[38;5;124mcat\u001B[39m\u001B[38;5;124m'\u001B[39m]\u001B[38;5;241m.\u001B[39mshape)\n",
      "\u001B[0;31mNameError\u001B[0m: name 'word_vectors' is not defined"
     ]
    }
   ],
   "execution_count": 7
  },
  {
   "metadata": {
    "ExecuteTime": {
     "end_time": "2025-02-19T20:58:08.257280Z",
     "start_time": "2025-02-19T20:58:08.254510Z"
    }
   },
   "cell_type": "code",
   "source": [
    "# Similar words\n",
    "\n",
    "# King + Woman - Man = Quenn \n",
    "\n",
    "# Example of using most_similar\n",
    "\n",
    "print(word_vectors.most_similar(positive=['king', 'woman'], negative=['man'], topn=10)\n",
    "#result will be quenn and 0.71 probabilty."
   ],
   "id": "ff36f7f7e6525e86",
   "outputs": [],
   "execution_count": 9
  },
  {
   "metadata": {},
   "cell_type": "code",
   "outputs": [],
   "execution_count": null,
   "source": "",
   "id": "fbe0a661501076a3"
  }
 ],
 "metadata": {
  "kernelspec": {
   "display_name": "Python [conda env:base] *",
   "language": "python",
   "name": "conda-base-py"
  },
  "language_info": {
   "codemirror_mode": {
    "name": "ipython",
    "version": 3
   },
   "file_extension": ".py",
   "mimetype": "text/x-python",
   "name": "python",
   "nbconvert_exporter": "python",
   "pygments_lexer": "ipython3",
   "version": "3.12.7"
  }
 },
 "nbformat": 4,
 "nbformat_minor": 5
}
